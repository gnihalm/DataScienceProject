{
 "cells": [
  {
   "cell_type": "markdown",
   "id": "aa886693",
   "metadata": {},
   "source": [
    "Importing important python libraries and Loading the data"
   ]
  },
  {
   "cell_type": "code",
   "execution_count": 27,
   "id": "526e27d0",
   "metadata": {},
   "outputs": [],
   "source": [
    "import pandas as pd\n",
    "import numpy as np\n",
    "import matplotlib.pyplot as plt\n",
    "import seaborn as sns\n",
    "from statsmodels.tsa.seasonal import seasonal_decompose\n",
    "from datetime import datetime\n",
    "from dateutil.parser import parse\n",
    "\n",
    "\n",
    "series = pd.read_csv(\"/Users/gulnihal/Desktop/births2015/Births2015.csv\", header=0, index_col=0)\n",
    "\n"
   ]
  },
  {
   "cell_type": "markdown",
   "id": "d74fe205",
   "metadata": {},
   "source": [
    "# Feature Engineering"
   ]
  },
  {
   "cell_type": "markdown",
   "id": "b7637942",
   "metadata": {},
   "source": [
    "In this part, I extracted some features from data and value to make more insightful conclusions about the data"
   ]
  },
  {
   "cell_type": "markdown",
   "id": "7d028b72",
   "metadata": {},
   "source": [
    "Date/Time based features are already given. So no need to extract a number of features from the date column."
   ]
  },
  {
   "cell_type": "markdown",
   "id": "946a55a3",
   "metadata": {},
   "source": [
    "## Lag Features\n"
   ]
  },
  {
   "cell_type": "markdown",
   "id": "e081df4c",
   "metadata": {},
   "source": [
    " The lag value we choose will depend on the correlation of individual values with its past values.\n",
    "\n",
    " If the series has a weekly trend, which means the value last Monday can be used to predict the value for this Monday, lag features for seven days should be created. \n"
   ]
  },
  {
   "cell_type": "code",
   "execution_count": 28,
   "id": "7d71322f",
   "metadata": {},
   "outputs": [
    {
     "data": {
      "text/html": [
       "<div>\n",
       "<style scoped>\n",
       "    .dataframe tbody tr th:only-of-type {\n",
       "        vertical-align: middle;\n",
       "    }\n",
       "\n",
       "    .dataframe tbody tr th {\n",
       "        vertical-align: top;\n",
       "    }\n",
       "\n",
       "    .dataframe thead th {\n",
       "        text-align: right;\n",
       "    }\n",
       "</style>\n",
       "<table border=\"1\" class=\"dataframe\">\n",
       "  <thead>\n",
       "    <tr style=\"text-align: right;\">\n",
       "      <th></th>\n",
       "      <th>births</th>\n",
       "      <th>Lag1</th>\n",
       "      <th>Lag7</th>\n",
       "      <th>Lag8</th>\n",
       "    </tr>\n",
       "  </thead>\n",
       "  <tbody>\n",
       "    <tr>\n",
       "      <th>1</th>\n",
       "      <td>8068</td>\n",
       "      <td>NaN</td>\n",
       "      <td>NaN</td>\n",
       "      <td>NaN</td>\n",
       "    </tr>\n",
       "    <tr>\n",
       "      <th>2</th>\n",
       "      <td>10850</td>\n",
       "      <td>8068.0</td>\n",
       "      <td>NaN</td>\n",
       "      <td>NaN</td>\n",
       "    </tr>\n",
       "    <tr>\n",
       "      <th>3</th>\n",
       "      <td>8328</td>\n",
       "      <td>10850.0</td>\n",
       "      <td>NaN</td>\n",
       "      <td>NaN</td>\n",
       "    </tr>\n",
       "    <tr>\n",
       "      <th>4</th>\n",
       "      <td>7065</td>\n",
       "      <td>8328.0</td>\n",
       "      <td>NaN</td>\n",
       "      <td>NaN</td>\n",
       "    </tr>\n",
       "    <tr>\n",
       "      <th>5</th>\n",
       "      <td>11892</td>\n",
       "      <td>7065.0</td>\n",
       "      <td>NaN</td>\n",
       "      <td>NaN</td>\n",
       "    </tr>\n",
       "    <tr>\n",
       "      <th>6</th>\n",
       "      <td>12425</td>\n",
       "      <td>11892.0</td>\n",
       "      <td>NaN</td>\n",
       "      <td>NaN</td>\n",
       "    </tr>\n",
       "    <tr>\n",
       "      <th>7</th>\n",
       "      <td>12141</td>\n",
       "      <td>12425.0</td>\n",
       "      <td>NaN</td>\n",
       "      <td>NaN</td>\n",
       "    </tr>\n",
       "    <tr>\n",
       "      <th>8</th>\n",
       "      <td>12094</td>\n",
       "      <td>12141.0</td>\n",
       "      <td>8068.0</td>\n",
       "      <td>NaN</td>\n",
       "    </tr>\n",
       "    <tr>\n",
       "      <th>9</th>\n",
       "      <td>11868</td>\n",
       "      <td>12094.0</td>\n",
       "      <td>10850.0</td>\n",
       "      <td>8068.0</td>\n",
       "    </tr>\n",
       "    <tr>\n",
       "      <th>10</th>\n",
       "      <td>8014</td>\n",
       "      <td>11868.0</td>\n",
       "      <td>8328.0</td>\n",
       "      <td>10850.0</td>\n",
       "    </tr>\n",
       "    <tr>\n",
       "      <th>11</th>\n",
       "      <td>7172</td>\n",
       "      <td>8014.0</td>\n",
       "      <td>7065.0</td>\n",
       "      <td>8328.0</td>\n",
       "    </tr>\n",
       "    <tr>\n",
       "      <th>12</th>\n",
       "      <td>11479</td>\n",
       "      <td>7172.0</td>\n",
       "      <td>11892.0</td>\n",
       "      <td>7065.0</td>\n",
       "    </tr>\n",
       "    <tr>\n",
       "      <th>13</th>\n",
       "      <td>11924</td>\n",
       "      <td>11479.0</td>\n",
       "      <td>12425.0</td>\n",
       "      <td>11892.0</td>\n",
       "    </tr>\n",
       "    <tr>\n",
       "      <th>14</th>\n",
       "      <td>12013</td>\n",
       "      <td>11924.0</td>\n",
       "      <td>12141.0</td>\n",
       "      <td>12425.0</td>\n",
       "    </tr>\n",
       "    <tr>\n",
       "      <th>15</th>\n",
       "      <td>12339</td>\n",
       "      <td>12013.0</td>\n",
       "      <td>12094.0</td>\n",
       "      <td>12141.0</td>\n",
       "    </tr>\n",
       "  </tbody>\n",
       "</table>\n",
       "</div>"
      ],
      "text/plain": [
       "    births     Lag1     Lag7     Lag8\n",
       "1     8068      NaN      NaN      NaN\n",
       "2    10850   8068.0      NaN      NaN\n",
       "3     8328  10850.0      NaN      NaN\n",
       "4     7065   8328.0      NaN      NaN\n",
       "5    11892   7065.0      NaN      NaN\n",
       "6    12425  11892.0      NaN      NaN\n",
       "7    12141  12425.0      NaN      NaN\n",
       "8    12094  12141.0   8068.0      NaN\n",
       "9    11868  12094.0  10850.0   8068.0\n",
       "10    8014  11868.0   8328.0  10850.0\n",
       "11    7172   8014.0   7065.0   8328.0\n",
       "12   11479   7172.0  11892.0   7065.0\n",
       "13   11924  11479.0  12425.0  11892.0\n",
       "14   12013  11924.0  12141.0  12425.0\n",
       "15   12339  12013.0  12094.0  12141.0"
      ]
     },
     "execution_count": 28,
     "metadata": {},
     "output_type": "execute_result"
    }
   ],
   "source": [
    "from pandas import read_csv\n",
    "from pandas import DataFrame\n",
    "from pandas import concat\n",
    "series = read_csv(\"/Users/gulnihal/Desktop/births2015/Births2015.csv\", header=0, index_col=0)\n",
    "series[\"Lag1\"] = series[\"births\"].shift(1)\n",
    "series[\"Lag7\"] = series[\"births\"].shift(7)\n",
    "series[\"Lag8\"] = series[\"births\"].shift(8)\n",
    "\n",
    "series[[\"births\", \"Lag1\", \"Lag7\", \"Lag8\"]].head(15)\n"
   ]
  },
  {
   "cell_type": "markdown",
   "id": "593a77dc",
   "metadata": {},
   "source": [
    "    As we found earlier Lag7 is pretty close to actual values"
   ]
  },
  {
   "cell_type": "markdown",
   "id": "d0af8e7a",
   "metadata": {},
   "source": [
    "## Autocorrelation (ACF/PACF)"
   ]
  },
  {
   "cell_type": "markdown",
   "id": "b6c9aee8",
   "metadata": {},
   "source": [
    "a measure of the correlation between the time series and the lagged version of itself and a measure of the correlation between the time series with a lagged version of itself but after eliminating the variations already explained by the intervening comparisons respectively.\n"
   ]
  },
  {
   "cell_type": "code",
   "execution_count": 36,
   "id": "728c4ac1",
   "metadata": {},
   "outputs": [
    {
     "data": {
      "image/png": "[encoded data removed]",
      "text/plain": [
       "<Figure size 432x288 with 1 Axes>"
      ]
     },
     "metadata": {
      "needs_background": "light"
     },
     "output_type": "display_data"
    },
    {
     "name": "stderr",
     "output_type": "stream",
     "text": [
      "/Library/Frameworks/Python.framework/Versions/3.9/lib/python3.9/site-packages/statsmodels/graphics/tsaplots.py:348: FutureWarning: The default method 'yw' can produce PACF values outside of the [-1,1] interval. After 0.13, the default will change tounadjusted Yule-Walker ('ywm'). You can use this method now by setting method='ywm'.\n",
      "  warnings.warn(\n"
     ]
    },
    {
     "data": {
      "image/png": "[encoded data removed]",
      "text/plain": [
       "<Figure size 432x288 with 1 Axes>"
      ]
     },
     "metadata": {
      "needs_background": "light"
     },
     "output_type": "display_data"
    }
   ],
   "source": [
    "from statsmodels.graphics.tsaplots import plot_acf\n",
    "from pandas import read_csv\n",
    "from matplotlib import pyplot\n",
    "plot_acf(data[\"births\"], lags=15)\n",
    "pyplot.show()\n",
    "\n",
    "from statsmodels.graphics.tsaplots import plot_pacf\n",
    "plot_pacf(data[\"births\"], lags=15)\n",
    "pyplot.show()\n",
    "\n",
    "\n",
    "\n"
   ]
  },
  {
   "cell_type": "markdown",
   "id": "da98fe27",
   "metadata": {},
   "source": [
    "    As we found earlier multipliers of 7 are pretty close to actual values"
   ]
  },
  {
   "cell_type": "code",
   "execution_count": 37,
   "id": "d5531d4b",
   "metadata": {},
   "outputs": [
    {
     "name": "stdout",
     "output_type": "stream",
     "text": [
      "       t-1    t+1\n",
      "1      NaN   8068\n",
      "2   8068.0  10850\n",
      "3  10850.0   8328\n",
      "4   8328.0   7065\n",
      "5   7065.0  11892\n"
     ]
    }
   ],
   "source": [
    "\n",
    "births = DataFrame(series.births)\n",
    "dataframe = concat([births.shift(1), births], axis=1)\n",
    "dataframe.columns = ['t-1', 't+1']\n",
    "print(dataframe.head(5))\n"
   ]
  },
  {
   "cell_type": "markdown",
   "id": "13457b6d",
   "metadata": {},
   "source": [
    "sliding window"
   ]
  },
  {
   "cell_type": "code",
   "execution_count": 38,
   "id": "b55116db",
   "metadata": {},
   "outputs": [
    {
     "name": "stdout",
     "output_type": "stream",
     "text": [
      "       t-3      t-2      t-1    t+1\n",
      "1      NaN      NaN      NaN   8068\n",
      "2      NaN      NaN   8068.0  10850\n",
      "3      NaN   8068.0  10850.0   8328\n",
      "4   8068.0  10850.0   8328.0   7065\n",
      "5  10850.0   8328.0   7065.0  11892\n"
     ]
    }
   ],
   "source": [
    "\n",
    "dataframe = concat([births.shift(3), births.shift(2), births.shift(1), births], axis=1)\n",
    "dataframe.columns = ['t-3', 't-2', 't-1', 't+1']\n",
    "print(dataframe.head(5))\n"
   ]
  },
  {
   "cell_type": "markdown",
   "id": "3dfb0873",
   "metadata": {},
   "source": [
    " Rollig Window Statistics"
   ]
  },
  {
   "cell_type": "code",
   "execution_count": 39,
   "id": "238d0d31",
   "metadata": {},
   "outputs": [
    {
     "data": {
      "text/html": [
       "<div>\n",
       "<style scoped>\n",
       "    .dataframe tbody tr th:only-of-type {\n",
       "        vertical-align: middle;\n",
       "    }\n",
       "\n",
       "    .dataframe tbody tr th {\n",
       "        vertical-align: top;\n",
       "    }\n",
       "\n",
       "    .dataframe thead th {\n",
       "        text-align: right;\n",
       "    }\n",
       "</style>\n",
       "<table border=\"1\" class=\"dataframe\">\n",
       "  <thead>\n",
       "    <tr style=\"text-align: right;\">\n",
       "      <th></th>\n",
       "      <th>births</th>\n",
       "      <th>RollingWindow</th>\n",
       "      <th>Expanding</th>\n",
       "    </tr>\n",
       "  </thead>\n",
       "  <tbody>\n",
       "    <tr>\n",
       "      <th>1</th>\n",
       "      <td>8068</td>\n",
       "      <td>NaN</td>\n",
       "      <td>NaN</td>\n",
       "    </tr>\n",
       "    <tr>\n",
       "      <th>2</th>\n",
       "      <td>10850</td>\n",
       "      <td>NaN</td>\n",
       "      <td>NaN</td>\n",
       "    </tr>\n",
       "    <tr>\n",
       "      <th>3</th>\n",
       "      <td>8328</td>\n",
       "      <td>NaN</td>\n",
       "      <td>NaN</td>\n",
       "    </tr>\n",
       "    <tr>\n",
       "      <th>4</th>\n",
       "      <td>7065</td>\n",
       "      <td>NaN</td>\n",
       "      <td>NaN</td>\n",
       "    </tr>\n",
       "    <tr>\n",
       "      <th>5</th>\n",
       "      <td>11892</td>\n",
       "      <td>9240.6</td>\n",
       "      <td>9240.600000</td>\n",
       "    </tr>\n",
       "    <tr>\n",
       "      <th>6</th>\n",
       "      <td>12425</td>\n",
       "      <td>10112.0</td>\n",
       "      <td>9771.333333</td>\n",
       "    </tr>\n",
       "    <tr>\n",
       "      <th>7</th>\n",
       "      <td>12141</td>\n",
       "      <td>10370.2</td>\n",
       "      <td>10109.857143</td>\n",
       "    </tr>\n",
       "    <tr>\n",
       "      <th>8</th>\n",
       "      <td>12094</td>\n",
       "      <td>11123.4</td>\n",
       "      <td>10357.875000</td>\n",
       "    </tr>\n",
       "    <tr>\n",
       "      <th>9</th>\n",
       "      <td>11868</td>\n",
       "      <td>12084.0</td>\n",
       "      <td>10525.666667</td>\n",
       "    </tr>\n",
       "    <tr>\n",
       "      <th>10</th>\n",
       "      <td>8014</td>\n",
       "      <td>11308.4</td>\n",
       "      <td>10274.500000</td>\n",
       "    </tr>\n",
       "    <tr>\n",
       "      <th>11</th>\n",
       "      <td>7172</td>\n",
       "      <td>10257.8</td>\n",
       "      <td>9992.454545</td>\n",
       "    </tr>\n",
       "    <tr>\n",
       "      <th>12</th>\n",
       "      <td>11479</td>\n",
       "      <td>10125.4</td>\n",
       "      <td>10116.333333</td>\n",
       "    </tr>\n",
       "    <tr>\n",
       "      <th>13</th>\n",
       "      <td>11924</td>\n",
       "      <td>10091.4</td>\n",
       "      <td>10255.384615</td>\n",
       "    </tr>\n",
       "    <tr>\n",
       "      <th>14</th>\n",
       "      <td>12013</td>\n",
       "      <td>10120.4</td>\n",
       "      <td>10380.928571</td>\n",
       "    </tr>\n",
       "    <tr>\n",
       "      <th>15</th>\n",
       "      <td>12339</td>\n",
       "      <td>10985.4</td>\n",
       "      <td>10511.466667</td>\n",
       "    </tr>\n",
       "  </tbody>\n",
       "</table>\n",
       "</div>"
      ],
      "text/plain": [
       "    births  RollingWindow     Expanding\n",
       "1     8068            NaN           NaN\n",
       "2    10850            NaN           NaN\n",
       "3     8328            NaN           NaN\n",
       "4     7065            NaN           NaN\n",
       "5    11892         9240.6   9240.600000\n",
       "6    12425        10112.0   9771.333333\n",
       "7    12141        10370.2  10109.857143\n",
       "8    12094        11123.4  10357.875000\n",
       "9    11868        12084.0  10525.666667\n",
       "10    8014        11308.4  10274.500000\n",
       "11    7172        10257.8   9992.454545\n",
       "12   11479        10125.4  10116.333333\n",
       "13   11924        10091.4  10255.384615\n",
       "14   12013        10120.4  10380.928571\n",
       "15   12339        10985.4  10511.466667"
      ]
     },
     "execution_count": 39,
     "metadata": {},
     "output_type": "execute_result"
    }
   ],
   "source": [
    "series[\"RollingWindow\"] = series[\"births\"].rolling(window=5).mean()\n",
    "series[\"Expanding\"] = series[\"births\"].expanding(5).mean()\n",
    "series[[\"births\",\"RollingWindow\", \"Expanding\"]].head(15)\n"
   ]
  },
  {
   "cell_type": "code",
   "execution_count": 40,
   "id": "3c8943a1",
   "metadata": {},
   "outputs": [
    {
     "name": "stdout",
     "output_type": "stream",
     "text": [
      "   mean(t-2,t-1)    t+1\n",
      "1            NaN   8068\n",
      "2            NaN  10850\n",
      "3         9459.0   8328\n",
      "4         9589.0   7065\n",
      "5         7696.5  11892\n"
     ]
    }
   ],
   "source": [
    "\n",
    "births = DataFrame(series.births)\n",
    "shifted = births.shift(1)\n",
    "window = shifted.rolling(window=2)\n",
    "means = window.mean()\n",
    "dataframe = concat([means, births], axis=1)\n",
    "dataframe.columns = ['mean(t-2,t-1)', 't+1']\n",
    "print(dataframe.head(5))"
   ]
  },
  {
   "cell_type": "code",
   "execution_count": 41,
   "id": "bd1273f2",
   "metadata": {},
   "outputs": [
    {
     "name": "stdout",
     "output_type": "stream",
     "text": [
      "      min    mean      max    t+1\n",
      "1     NaN     NaN      NaN   8068\n",
      "2     NaN     NaN      NaN  10850\n",
      "3     NaN     NaN      NaN   8328\n",
      "4     NaN     NaN      NaN   7065\n",
      "5  8068.0  9082.0  10850.0  11892\n"
     ]
    }
   ],
   "source": [
    "\n",
    "births = DataFrame(series.births)\n",
    "width = 3\n",
    "shifted = births.shift(width - 1)\n",
    "window = shifted.rolling(window=width)\n",
    "dataframe = concat([window.min(), window.mean(), window.max(), births], axis=1)\n",
    "dataframe.columns = ['min', 'mean', 'max', 't+1']\n",
    "print(dataframe.head(5))\n"
   ]
  },
  {
   "cell_type": "markdown",
   "id": "69ecf45c",
   "metadata": {},
   "source": [
    "Window Values"
   ]
  },
  {
   "cell_type": "markdown",
   "id": "13fa6064",
   "metadata": {},
   "source": [
    "create expanding window features"
   ]
  },
  {
   "cell_type": "code",
   "execution_count": 42,
   "id": "78e54d1a",
   "metadata": {},
   "outputs": [
    {
     "name": "stdout",
     "output_type": "stream",
     "text": [
      "      min     mean      max      t+1\n",
      "1  8068.0  8068.00   8068.0  10850.0\n",
      "2  8068.0  9459.00  10850.0   8328.0\n",
      "3  8068.0  9082.00  10850.0   7065.0\n",
      "4  7065.0  8577.75  10850.0  11892.0\n",
      "5  7065.0  9240.60  11892.0  12425.0\n"
     ]
    }
   ],
   "source": [
    "births = DataFrame(series.births)\n",
    "window = births.expanding()\n",
    "dataframe = concat([window.min(), window.mean(), window.max(), births.shift(-1)], axis=1)\n",
    "dataframe.columns = ['min', 'mean', 'max', 't+1']\n",
    "print(dataframe.head(5))"
   ]
  },
  {
   "cell_type": "markdown",
   "id": "4fc97654",
   "metadata": {},
   "source": [
    "# Stationary Test "
   ]
  },
  {
   "cell_type": "markdown",
   "id": "c39cbe3d",
   "metadata": {},
   "source": [
    "Measures the dependency of data on the time at which the series is observed."
   ]
  },
  {
   "cell_type": "markdown",
   "id": "6af9450e",
   "metadata": {},
   "source": [
    "Augmented Dickey-Fuller test"
   ]
  },
  {
   "cell_type": "code",
   "execution_count": 43,
   "id": "f2ad61a1",
   "metadata": {},
   "outputs": [
    {
     "name": "stdout",
     "output_type": "stream",
     "text": [
      "ADF Statistic: -1.601399\n",
      "p-value: 0.482890\n",
      "Critical Values:\n",
      "\t1%: -3.449\n",
      "\t5%: -2.870\n",
      "\t10%: -2.571\n"
     ]
    }
   ],
   "source": [
    " \n",
    "from pandas import read_csv\n",
    "from statsmodels.tsa.stattools import adfuller\n",
    "series = read_csv(\"/Users/gulnihal/Desktop/births2015/Births2015.csv\", header=0, index_col=0)\n",
    "X = series.births\n",
    "result = adfuller(X)\n",
    "print('ADF Statistic: %f' % result[0])\n",
    "print('p-value: %f' % result[1])\n",
    "print('Critical Values:')\n",
    "for key, value in result[4].items():\n",
    "\tprint('\\t%s: %.3f' % (key, value))\n"
   ]
  },
  {
   "cell_type": "markdown",
   "id": "c4ef52b5",
   "metadata": {},
   "source": [
    "    since p>0.05, the dataset is non-stationary."
   ]
  }
 ],
 "metadata": {
  "kernelspec": {
   "display_name": "Python 3 (ipykernel)",
   "language": "python",
   "name": "python3"
  },
  "language_info": {
   "codemirror_mode": {
    "name": "ipython",
    "version": 3
   },
   "file_extension": ".py",
   "mimetype": "text/x-python",
   "name": "python",
   "nbconvert_exporter": "python",
   "pygments_lexer": "ipython3",
   "version": "3.9.7"
  }
 },
 "nbformat": 4,
 "nbformat_minor": 5
}
